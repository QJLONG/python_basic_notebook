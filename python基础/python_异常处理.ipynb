{
 "cells": [
  {
   "cell_type": "markdown",
   "metadata": {},
   "source": [
    "# 异常"
   ]
  },
  {
   "cell_type": "code",
   "execution_count": 7,
   "metadata": {},
   "outputs": [
    {
     "name": "stdout",
     "output_type": "stream",
     "text": [
      "请输入年龄：aa\n",
      "输入格式非法，请输入纯数字\n",
      "我是后续代码\n"
     ]
    }
   ],
   "source": [
    "'''\n",
    "    异常处理的格式：\n",
    "    try:\n",
    "        可能出现异常的代码段\n",
    "    except（异常|多个异常） as e:\n",
    "        解决异常的代码段\n",
    "    else:\n",
    "        果没出现异常的代码块\n",
    "    finally:\n",
    "        不管有没有异常都会执行的代码段 先于return执行\n",
    "    \n",
    "'''\n",
    "\n",
    "def testException():\n",
    "    age = input('请输入年龄：')\n",
    "    try:\n",
    "        a = int(age)\n",
    "        if a > 18:\n",
    "            print('尽早戒烟有益身体健康！')\n",
    "        else:\n",
    "            print('未成年人不允许吸烟！')\n",
    "    except(ValueError) as e:\n",
    "        print('输入格式非法，请输入纯数字')\n",
    "    else:\n",
    "        print('输入成功!')\n",
    "    finally:\n",
    "        print('我是后续代码')\n",
    "\n",
    "if __name__ == '__main__':\n",
    "    testException()"
   ]
  },
  {
   "cell_type": "code",
   "execution_count": 15,
   "metadata": {},
   "outputs": [
    {
     "name": "stdout",
     "output_type": "stream",
     "text": [
      "请输入年龄：12\n",
      "处理非法字符的代码\n"
     ]
    }
   ],
   "source": [
    "# 异常抛出（谁调用谁处理）\n",
    "# raise 抛出\n",
    "\n",
    "def testExcept():\n",
    "    age = int(input('请输入年龄：'))\n",
    "    raise PermissionError('处理非法字符串')\n",
    "    if age > 18:\n",
    "        print('尽早戒烟有益身体健康！')\n",
    "    else:\n",
    "        print('未成年人不允许吸烟！')\n",
    "        \n",
    "    \n",
    "    \n",
    "    \n",
    "if __name__ == '__main__':\n",
    "    try:\n",
    "        testExcept()\n",
    "    except(Exception) as e:\n",
    "        print('处理非法字符的代码')\n",
    "    \n",
    "            "
   ]
  },
  {
   "cell_type": "code",
   "execution_count": 22,
   "metadata": {},
   "outputs": [
    {
     "name": "stdout",
     "output_type": "stream",
     "text": [
      "请输入用户名（用户名为纯数字且长度为4-8）ADF51\\\n",
      "用户名必须为纯数字！\n"
     ]
    }
   ],
   "source": [
    "# 自定义异常\n",
    "# 模拟用户注册  用户名为纯数字且长度为4-8\n",
    "\n",
    "# 自定义异常类\n",
    "class CustonExcept(Exception):\n",
    "    \n",
    "    def __init__(self,*args,**kwargs):\n",
    "        super().__init__(*args,**kwargs)\n",
    "\n",
    "def regester():\n",
    "    str_username = input('请输入用户名（用户名为纯数字且长度为4-8）')\n",
    "    \n",
    "    # 1.判断是否为空\n",
    "    if len(str_username) == 0:\n",
    "        raise CustonExcept('用户名不允许为空！')\n",
    "    \n",
    "    # 2.判断是否纯数字\n",
    "    flag = str_username.isdigit()\n",
    "    if not flag:\n",
    "        raise CustonExcept('用户名必须为纯数字！')\n",
    "        \n",
    "    # 3.判断长度是否为4-8\n",
    "    if len(str_username) < 4 or len(str_username) >8:\n",
    "        raise CustonExcept('用户名长度必须为4-8')\n",
    "    \n",
    "if __name__ == '__main__':\n",
    "    try:\n",
    "        regester()\n",
    "    except CustonExcept as e:\n",
    "        print(e)"
   ]
  }
 ],
 "metadata": {
  "kernelspec": {
   "display_name": "Python 3",
   "language": "python",
   "name": "python3"
  },
  "language_info": {
   "codemirror_mode": {
    "name": "ipython",
    "version": 3
   },
   "file_extension": ".py",
   "mimetype": "text/x-python",
   "name": "python",
   "nbconvert_exporter": "python",
   "pygments_lexer": "ipython3",
   "version": "3.8.3"
  }
 },
 "nbformat": 4,
 "nbformat_minor": 4
}
