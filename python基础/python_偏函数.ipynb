{
 "cells": [
  {
   "cell_type": "markdown",
   "metadata": {},
   "source": [
    "# 偏函数"
   ]
  },
  {
   "cell_type": "code",
   "execution_count": 17,
   "metadata": {},
   "outputs": [
    {
     "name": "stdout",
     "output_type": "stream",
     "text": [
      "今天天气不错！\n",
      "今天天气不错！\n",
      "**************************************************\n",
      "b'\\xe4\\xbb\\x8a\\xe5\\xa4\\xa9\\xe5\\xa4\\xa9\\xe6\\xb0\\x94\\xe4\\xb8\\x8d\\xe9\\x94\\x99\\xef\\xbc\\x81'\n",
      "今天天气不错！\n",
      "b'\\\\u4eca\\\\u5929\\\\u5929\\\\u6c14\\\\u4e0d\\\\u9519\\\\uff01'\n",
      "今天天气不错！\n"
     ]
    }
   ],
   "source": [
    "# 偏函数的使用\n",
    "'''\n",
    "    1.导入模块 functools\n",
    "    2.给偏函数起名\n",
    "    3.调用偏函数\n",
    "'''\n",
    "\n",
    "#1.导入模块\n",
    "import functools\n",
    "\n",
    "def translate(content,charset):\n",
    "    if charset == 0:\n",
    "        return content.encode(encoding = 'utf-8')\n",
    "    \n",
    "    if charset == 1:\n",
    "        return content.encode(encoding = 'unicode_escape')\n",
    "\n",
    "def main():\n",
    "    msg = translate('今天天气不错！',0)\n",
    "    print(msg.decode('utf-8'))\n",
    "    msg = translate('今天天气不错！',1)\n",
    "    print(msg.decode('unicode_escape'))\n",
    "    print('*'*50)\n",
    "    \n",
    "    # 2.给偏函数起名\n",
    "    translate_utf8 = functools.partial(translate,charset=0)\n",
    "    translate_unicode = functools.partial(translate,charset=1)\n",
    "    \n",
    "    # 3.调用偏函数\n",
    "    msg = translate_utf8('今天天气不错！')\n",
    "    print(msg)\n",
    "    print(msg.decode('utf-8'))\n",
    "    msg = translate_unicode('今天天气不错！')\n",
    "    print(msg)\n",
    "    print(msg.decode('unicode_escape'))\n",
    "    \n",
    "    \n",
    "if __name__ == '__main__':\n",
    "    main()"
   ]
  }
 ],
 "metadata": {
  "kernelspec": {
   "display_name": "Python 3",
   "language": "python",
   "name": "python3"
  },
  "language_info": {
   "codemirror_mode": {
    "name": "ipython",
    "version": 3
   },
   "file_extension": ".py",
   "mimetype": "text/x-python",
   "name": "python",
   "nbconvert_exporter": "python",
   "pygments_lexer": "ipython3",
   "version": "3.8.3"
  }
 },
 "nbformat": 4,
 "nbformat_minor": 4
}
