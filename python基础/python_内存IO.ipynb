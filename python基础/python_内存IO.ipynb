{
 "cells": [
  {
   "cell_type": "markdown",
   "metadata": {},
   "source": [
    "# 内存IO"
   ]
  },
  {
   "cell_type": "code",
   "execution_count": 4,
   "metadata": {},
   "outputs": [
    {
     "name": "stdout",
     "output_type": "stream",
     "text": [
      "hello world!\n",
      "**************************************************\n",
      "hello world!\n"
     ]
    }
   ],
   "source": [
    "from io import StringIO\n",
    "\n",
    "with StringIO() as sio:\n",
    "    len = sio.write(\"hello world!\")  #将内容写入内存中  返回写入的个数\n",
    "    \n",
    "    data = sio.getvalue()\n",
    "    print(data)\n",
    "    \n",
    "print('*'*50)\n",
    "\n",
    "sio = StringIO()\n",
    "len = sio.write('hello world!')\n",
    "data = sio.getvalue()\n",
    "print(data)\n"
   ]
  },
  {
   "cell_type": "code",
   "execution_count": 9,
   "metadata": {},
   "outputs": [
    {
     "name": "stdout",
     "output_type": "stream",
     "text": [
      "hello world!中国\n",
      "**************************************************\n",
      "hello world!中国\n"
     ]
    }
   ],
   "source": [
    "from io import BytesIO\n",
    "\n",
    "with BytesIO() as bio:\n",
    "    len = bio.write('hello world!中国'.encode(encoding='utf-8'))\n",
    "    data = bio.getvalue()\n",
    "    print(data.decode('utf-8'))\n",
    "    \n",
    "print('*'*50)\n",
    "\n",
    "bio = BytesIO()\n",
    "len = bio.write(\"hello world!中国\".encode('utf-8'))\n",
    "data = bio.getvalue()\n",
    "print(data.decode('utf-8'))"
   ]
  }
 ],
 "metadata": {
  "kernelspec": {
   "display_name": "Python 3",
   "language": "python",
   "name": "python3"
  },
  "language_info": {
   "codemirror_mode": {
    "name": "ipython",
    "version": 3
   },
   "file_extension": ".py",
   "mimetype": "text/x-python",
   "name": "python",
   "nbconvert_exporter": "python",
   "pygments_lexer": "ipython3",
   "version": "3.8.3"
  }
 },
 "nbformat": 4,
 "nbformat_minor": 4
}
