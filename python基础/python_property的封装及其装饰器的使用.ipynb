{
 "cells": [
  {
   "cell_type": "markdown",
   "metadata": {},
   "source": [
    "# porperty封装及装饰器"
   ]
  },
  {
   "cell_type": "markdown",
   "metadata": {},
   "source": [
    "### 1、property封装"
   ]
  },
  {
   "cell_type": "code",
   "execution_count": 4,
   "metadata": {},
   "outputs": [
    {
     "name": "stdout",
     "output_type": "stream",
     "text": [
      "-------------------------name_setter--------------------\n",
      "LOL\n",
      "-------------------------name_deleter--------------------\n"
     ]
    }
   ],
   "source": [
    "#创建Game()类\n",
    "class Game(object):\n",
    "    def __init__(self):\n",
    "        self.__name = None\n",
    "    \n",
    "    \n",
    "    def get_name(self):\n",
    "        return self.__name\n",
    "        print('-------------------------name_getter--------------------')\n",
    "    \n",
    "    \n",
    "    def set_name(self,name):\n",
    "        self.__name = name\n",
    "        print('-------------------------name_setter--------------------')\n",
    "        \n",
    "        \n",
    "    def del_name(self):\n",
    "        del self.__name\n",
    "        print('-------------------------name_deleter--------------------')\n",
    "        \n",
    "        \n",
    "    name = property(get_name,set_name,del_name,\"This is the game's name\")\n",
    "        \n",
    "        \n",
    "def main():\n",
    "    '''\n",
    "        game = Game()\n",
    "        game.set_name('LOL')\n",
    "        print(game.get_name())\n",
    "        game.del_name()\n",
    "    '''\n",
    "    \n",
    "    game = Game()\n",
    "    game.name = 'LOL'\n",
    "    print(game.name)\n",
    "    del game.name\n",
    "    \n",
    "    \n",
    "if __name__ == '__main__':\n",
    "    main()"
   ]
  },
  {
   "cell_type": "markdown",
   "metadata": {},
   "source": [
    "### 2、property装饰器的使用"
   ]
  },
  {
   "cell_type": "code",
   "execution_count": 6,
   "metadata": {},
   "outputs": [
    {
     "name": "stdout",
     "output_type": "stream",
     "text": [
      "-------------------------name_setter--------------------\n",
      "LOL\n",
      "-------------------------name_deleter--------------------\n"
     ]
    }
   ],
   "source": [
    "#创建Game()类\n",
    "class Game(object):\n",
    "    def __init__(self):\n",
    "        self.__name = None\n",
    "    \n",
    "    \n",
    "    @property\n",
    "    def name(self):\n",
    "        return self.__name\n",
    "        print('-------------------------name_getter--------------------')\n",
    "        \n",
    "        \n",
    "    @name.setter\n",
    "    def name(self,game_name):\n",
    "        self.__name = game_name\n",
    "        print('-------------------------name_setter--------------------')\n",
    "        \n",
    "        \n",
    "    @name.deleter\n",
    "    def name(self):\n",
    "        del self.__name\n",
    "        print('-------------------------name_deleter--------------------')\n",
    "        \n",
    "        \n",
    "def main():\n",
    "    game = Game()\n",
    "    game.name = 'LOL'\n",
    "    print(game.name)\n",
    "    del game.name\n",
    "    \n",
    "    \n",
    "if __name__ == '__main__':\n",
    "    main()\n",
    "    "
   ]
  }
 ],
 "metadata": {
  "kernelspec": {
   "display_name": "Python 3",
   "language": "python",
   "name": "python3"
  },
  "language_info": {
   "codemirror_mode": {
    "name": "ipython",
    "version": 3
   },
   "file_extension": ".py",
   "mimetype": "text/x-python",
   "name": "python",
   "nbconvert_exporter": "python",
   "pygments_lexer": "ipython3",
   "version": "3.8.3"
  }
 },
 "nbformat": 4,
 "nbformat_minor": 4
}
