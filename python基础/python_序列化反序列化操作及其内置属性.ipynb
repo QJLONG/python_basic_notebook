{
 "cells": [
  {
   "cell_type": "markdown",
   "metadata": {},
   "source": [
    "## python3序列化反序列化操作及其内置属性"
   ]
  },
  {
   "cell_type": "code",
   "execution_count": 1,
   "metadata": {
    "code_folding": []
   },
   "outputs": [
    {
     "name": "stdout",
     "output_type": "stream",
     "text": [
      "Apple's color is blue\n",
      "{\"shape\": \"Apple\", \"color\": \"blue\"}\n",
      "Apple's color is blue\n",
      "**************************************************\n",
      "序列化操作练习\n",
      "序列化操作练习\n",
      "**************************************************\n",
      "cup\n",
      "__main__\n",
      "**************************************************\n",
      "__main__\n",
      "__main__\n",
      "**************************************************\n",
      "(<class 'object'>,)\n"
     ]
    }
   ],
   "source": [
    "__auther__ = 'hummer'\n",
    "\n",
    "import json\n",
    "\n",
    "# 创建cup类\n",
    "class cup(object):\n",
    "    '''序列化操作练习'''\n",
    "    def __init__(self,cup_shape,cup_color):\n",
    "        self.shape = cup_shape \n",
    "        self.color = cup_color\n",
    "    \n",
    "    def __str__(self):\n",
    "        return \"{}'s color is {}\".format(self.shape,self.color)\n",
    "    \n",
    "    \n",
    "# 创建实例对象\n",
    "cp1 = cup('Apple','blue')\n",
    "print(cp1)\n",
    "\n",
    "\n",
    "# 实现序列化操作\n",
    "def ser(self):\n",
    "    return self.__dict__\n",
    "cp1_dumps = json.dumps(cp1,default=ser,ensure_ascii=False)\n",
    "print(cp1_dumps)\n",
    "\n",
    "\n",
    "# 实现反序列化操作\n",
    "def hook(dec):\n",
    "    return cup(dec['shape'],dec['color'])\n",
    "cp1_redumps = json.loads(cp1_dumps,object_hook=hook)\n",
    "print(cp1_redumps)\n",
    "print('*'*50)\n",
    "\n",
    "\n",
    "# 内置属性\n",
    "\n",
    "#__doc__  返回类的注释\n",
    "print(cp1.__doc__)\n",
    "print(cup.__doc__)\n",
    "print('*'*50)\n",
    "\n",
    "#__name__  获取类的名字  自己调用返回__main__，别人调用返回模块名\n",
    "print(cup.__name__)\n",
    "print(__name__)\n",
    "print('*'*50)\n",
    "\n",
    "#__module__ 获取模块的名字\n",
    "print(cup.__module__)\n",
    "print(cp1.__module__)\n",
    "print('*'*50)\n",
    "\n",
    "#__bases__  获取继承的父类\n",
    "print(cup.__bases__)"
   ]
  }
 ],
 "metadata": {
  "kernelspec": {
   "display_name": "Python 3",
   "language": "python",
   "name": "python3"
  },
  "language_info": {
   "codemirror_mode": {
    "name": "ipython",
    "version": 3
   },
   "file_extension": ".py",
   "mimetype": "text/x-python",
   "name": "python",
   "nbconvert_exporter": "python",
   "pygments_lexer": "ipython3",
   "version": "3.8.3"
  }
 },
 "nbformat": 4,
 "nbformat_minor": 4
}
