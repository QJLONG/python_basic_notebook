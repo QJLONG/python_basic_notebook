{
 "cells": [
  {
   "cell_type": "markdown",
   "metadata": {},
   "source": [
    " # pickle序列化与反序列化操作"
   ]
  },
  {
   "cell_type": "code",
   "execution_count": 16,
   "metadata": {},
   "outputs": [
    {
     "name": "stdout",
     "output_type": "stream",
     "text": [
      "b'\\x80\\x04\\x95(\\x00\\x00\\x00\\x00\\x00\\x00\\x00}\\x94(\\x8c\\x05first\\x94\\x8c\\x06\\xe8\\x81\\x8a\\xe8\\xa1\\xa8\\x94\\x8c\\x06second\\x94\\x8c\\x06\\xe5\\xbf\\x83\\xe6\\x84\\x8f\\x94u.'\n",
      "**************************************************\n",
      "{'first': '聊表', 'second': '心意'}\n",
      "**************************************************\n",
      "{'first': '聊表', 'second': '心意'}\n"
     ]
    }
   ],
   "source": [
    "import pickle\n",
    "\n",
    "# pickle序列化\n",
    "p = {'first':'聊表','second':'心意'}\n",
    "pdata = pickle.dumps(p)\n",
    "print(pdata)\n",
    "print(\"*\"*50)\n",
    "\n",
    "# pickle反序列化\n",
    "p = pickle.loads(pdata)\n",
    "print(p)\n",
    "print(\"*\"*50)\n",
    "\n",
    "# pickle写入文件操作\n",
    "with open('pickle_test.txt','wb') as f:\n",
    "    pickle.dump(p,f)\n",
    "    \n",
    "# pickle读文件操作\n",
    "with open('pickle_test.txt','rb') as f:\n",
    "    p = pickle.load(f)\n",
    "print(p)"
   ]
  },
  {
   "cell_type": "code",
   "execution_count": 8,
   "metadata": {},
   "outputs": [
    {
     "name": "stdout",
     "output_type": "stream",
     "text": [
      "{\"first\": \"\\u804a\\u8868\", \"second\": \"\\u5fc3\\u610f\"}\n",
      "<class 'str'>\n",
      "b'\\x80\\x04\\x95(\\x00\\x00\\x00\\x00\\x00\\x00\\x00}\\x94(\\x8c\\x05first\\x94\\x8c\\x06\\xe8\\x81\\x8a\\xe8\\xa1\\xa8\\x94\\x8c\\x06second\\x94\\x8c\\x06\\xe5\\xbf\\x83\\xe6\\x84\\x8f\\x94u.'\n",
      "<class 'bytes'>\n"
     ]
    }
   ],
   "source": [
    "import json\n",
    "import pickle\n",
    "\n",
    "p = {'first':'聊表','second':'心意'}\n",
    "p1 = {'first':'聊表','second':'心意'}\n",
    "\n",
    "msg = json.dumps(p)\n",
    "msg_pickle = pickle.dumps(p1)\n",
    "print(msg)\n",
    "print(type(msg))\n",
    "print(msg_pickle)\n",
    "print(type(msg_pickle))"
   ]
  },
  {
   "cell_type": "markdown",
   "metadata": {},
   "source": [
    "# json序列化与反序列化"
   ]
  },
  {
   "cell_type": "code",
   "execution_count": 29,
   "metadata": {},
   "outputs": [
    {
     "name": "stdout",
     "output_type": "stream",
     "text": [
      "{\"first\": \"\\u804a\\u8868\", \"second\": \"\\u5fc3\\u610f\"}\n",
      "<class 'str'>\n",
      "**************************************************\n",
      "{'first': '聊表', 'second': '心意'}\n",
      "<class 'dict'>\n",
      "**************************************************\n",
      "{'first': '聊表', 'second': '心意'}\n"
     ]
    }
   ],
   "source": [
    "import json\n",
    "p = {'first':'聊表','second':'心意'}\n",
    "\n",
    "# 序列化\n",
    "msg = json.dumps(p)\n",
    "print(msg)\n",
    "print(type(msg))\n",
    "print(\"*\"*50)\n",
    "\n",
    "# 反序列化\n",
    "p = json.loads(msg)\n",
    "print(p)\n",
    "print(type(p))\n",
    "print(\"*\"*50)\n",
    "\n",
    "# 文件序列化操作\n",
    "with open(\"json_test.txt\",\"w\") as f:\n",
    "    json.dump(p,f)\n",
    "    \n",
    "# 文件反序列化操作\n",
    "with open('json_test.txt','r') as f:\n",
    "    p = json.load(f)\n",
    "print(p)"
   ]
  }
 ],
 "metadata": {
  "kernelspec": {
   "display_name": "Python 3",
   "language": "python",
   "name": "python3"
  },
  "language_info": {
   "codemirror_mode": {
    "name": "ipython",
    "version": 3
   },
   "file_extension": ".py",
   "mimetype": "text/x-python",
   "name": "python",
   "nbconvert_exporter": "python",
   "pygments_lexer": "ipython3",
   "version": "3.8.3"
  }
 },
 "nbformat": 4,
 "nbformat_minor": 4
}
