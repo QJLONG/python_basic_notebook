{
 "cells": [
  {
   "cell_type": "markdown",
   "metadata": {},
   "source": [
    "# 私有属性的取用及其修改"
   ]
  },
  {
   "cell_type": "markdown",
   "metadata": {},
   "source": [
    "## 1、私有属性的调用"
   ]
  },
  {
   "cell_type": "code",
   "execution_count": 13,
   "metadata": {},
   "outputs": [
    {
     "name": "stdout",
     "output_type": "stream",
     "text": [
      "Python\n",
      "Python\n",
      "name\n"
     ]
    }
   ],
   "source": [
    "# 创建学生类\n",
    "class Student(object):\n",
    "    #创建私有属性\n",
    "    __work = 'Python'\n",
    "    __subject = 'Compuer'\n",
    "    \n",
    "    #定义初始化方法\n",
    "    def __init__(self,name,sex):\n",
    "        self.__name = name\n",
    "        self.__sex = sex\n",
    "    \n",
    "    \n",
    "    #返回对象属性__name\n",
    "    def get_name(self):\n",
    "        return self.__name\n",
    "    \n",
    "    \n",
    "    @classmethod\n",
    "    #返回类属性__work\n",
    "    def get_work(cls):\n",
    "        return cls.__work\n",
    "    \n",
    "def main():\n",
    "    std = Student('Bob','male')\n",
    "    \n",
    "    \n",
    "    '''\n",
    "        #错误代码演示：\n",
    "        print(Student.__work)\n",
    "        print(std.__name)\n",
    "    '''\n",
    "    '''\n",
    "        #内部机制调用  不推荐\n",
    "        print(Student._Student__work)\n",
    "        print(std._Student__name)\n",
    "    '''\n",
    "    \n",
    "    #通过get_name方法调用\n",
    "    print(std.get_work())\n",
    "    print(Student.get_work())\n",
    "    print(std.get_name())\n",
    "    \n",
    "if __name__ == '__main__':\n",
    "    main()"
   ]
  },
  {
   "cell_type": "markdown",
   "metadata": {},
   "source": [
    "## 2、私有属性的修改"
   ]
  },
  {
   "cell_type": "code",
   "execution_count": 24,
   "metadata": {},
   "outputs": [
    {
     "name": "stdout",
     "output_type": "stream",
     "text": [
      "{'_Student__name': 'Alice', '_Student__sex': 'male'}\n"
     ]
    }
   ],
   "source": [
    "# 创建学生类\n",
    "class Student(object):\n",
    "    #创建私有属性\n",
    "    __work = 'Python'\n",
    "    __subject = 'Compuer'\n",
    "    \n",
    "    #定义初始化方法\n",
    "    def __init__(self,name,sex):\n",
    "        self.__name = name\n",
    "        self.__sex = sex\n",
    "    \n",
    "    def set_name(self,newname):\n",
    "        self.__name = newname\n",
    "    \n",
    "    \n",
    "def main():\n",
    "    std = Student('Bob','male')\n",
    "    \n",
    "    '''\n",
    "        #错误代码\n",
    "        std.__name = 'Alice'\n",
    "        print(std.__dict__)\n",
    "    '''\n",
    "    \n",
    "    std.set_name('Alice')\n",
    "    print(std.__dict__)\n",
    "    \n",
    "    \n",
    "if __name__ == '__main__':\n",
    "    main()"
   ]
  },
  {
   "cell_type": "markdown",
   "metadata": {},
   "source": [
    "## 3、私有方法的调用"
   ]
  },
  {
   "cell_type": "code",
   "execution_count": 17,
   "metadata": {},
   "outputs": [
    {
     "name": "stdout",
     "output_type": "stream",
     "text": [
      "Alice正在玩王者荣耀\n"
     ]
    }
   ],
   "source": [
    "# 创建学生类\n",
    "class Student(object):\n",
    "    #创建私有属性\n",
    "    __work = 'Python'\n",
    "    __subject = 'Compuer'\n",
    "    \n",
    "    #定义初始化方法\n",
    "    def __init__(self,name,sex):\n",
    "        self.__name = name\n",
    "        self.__sex = sex\n",
    "    \n",
    "    \n",
    "    #定义__play()方法\n",
    "    def __play(self):\n",
    "        print('{}正在玩王者荣耀'.format(self.__name))\n",
    "    \n",
    "    \n",
    "    def get_play(self):\n",
    "        return self.__play()\n",
    "    \n",
    "\n",
    "def main():\n",
    "    std = Student('Alice','female')\n",
    "    \n",
    "    '''\n",
    "        #内部机制调用  不推荐\n",
    "        std._Student__play()\n",
    "    '''\n",
    "    \n",
    "    std.get_play()\n",
    "    \n",
    "if __name__ == '__main__':\n",
    "    main()\n"
   ]
  }
 ],
 "metadata": {
  "kernelspec": {
   "display_name": "Python 3",
   "language": "python",
   "name": "python3"
  },
  "language_info": {
   "codemirror_mode": {
    "name": "ipython",
    "version": 3
   },
   "file_extension": ".py",
   "mimetype": "text/x-python",
   "name": "python",
   "nbconvert_exporter": "python",
   "pygments_lexer": "ipython3",
   "version": "3.8.3"
  }
 },
 "nbformat": 4,
 "nbformat_minor": 4
}
