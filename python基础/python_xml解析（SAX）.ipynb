{
 "cells": [
  {
   "cell_type": "markdown",
   "metadata": {},
   "source": [
    "# XML解析"
   ]
  },
  {
   "cell_type": "markdown",
   "metadata": {},
   "source": [
    "## SAX解析（效率高，边读取边解析，不能重复解析）\n",
    "\n",
    "1.创建一个XMLReader：parser = xml.sax.make_parser()\n",
    "\n",
    "2.编写一个类继承xml.sax.ContentHandler类,并重写startElement（开始），endElement（结束），characters(接受内容)\n",
    "\n",
    "3.实例化解析对象:parser.setContentHandler(解析对象)\n",
    "\n",
    "4.调用解析方法：parser.parse(\"文档.xml\")"
   ]
  },
  {
   "cell_type": "code",
   "execution_count": 2,
   "metadata": {},
   "outputs": [
    {
     "name": "stdout",
     "output_type": "stream",
     "text": [
      "Person Name:  王晶晶\n",
      "Person Age:  28\n",
      "Person Name:  张三\n",
      "Person Age:  300\n"
     ]
    }
   ],
   "source": [
    "import xml.sax\n",
    "\n",
    "# 2.编写一个类继承xml.sax.ContentHandler类,并重写startElement（开始），endElement（结束），characters(接受内容)\n",
    "class MyHandler(xml.sax.ContentHandler):\n",
    "\n",
    "    # 初始化对象属性\n",
    "    def __init__(self):\n",
    "        self.name = ''\n",
    "        self.age = 0\n",
    "        self.current_tag = ''\n",
    "\n",
    "    def startElement(self, tag_name, tag_attrs):\n",
    "        # print('解析开始----------start>',tag_name,tag_attrs)\n",
    "        # 只处理节点信息\n",
    "        if 'name' == tag_name:\n",
    "            # print(tag_name)\n",
    "            self.current_tag = tag_name\n",
    "\n",
    "        if 'age' == tag_name:\n",
    "            # print(tag_name)\n",
    "            self.current_tag = tag_name\n",
    "\n",
    "    def endElement(self, tag_name):\n",
    "        # print('解析结束---------->',tag_name)\n",
    "        if tag_name == 'name':\n",
    "            print(\"Person Name: \",self.name)\n",
    "        if tag_name == 'age':\n",
    "            print(\"Person Age: \",self.age)\n",
    "\n",
    "    def characters(self, content):\n",
    "        # print('获取内容->',content)\n",
    "        if self.current_tag == 'name':\n",
    "            self.name = content\n",
    "        if self.current_tag == 'age':\n",
    "            self.age = content\n",
    "\n",
    "if __name__ == '__main__':\n",
    "    # 1.创建一个XMLReader：parser = xml.sax.make_parser()\n",
    "    parser = xml.sax.make_parser()\n",
    "\n",
    "    # 关闭命名空间解析\n",
    "    parser.setFeature(xml.sax.handler.feature_namespaces, 0)\n",
    "\n",
    "    # 3.实例化解析对象\n",
    "    handler = MyHandler()\n",
    "    parser.setContentHandler(handler)\n",
    "\n",
    "    # 4.解析文档\n",
    "    parser.parse(\"people.xml\")\n",
    "    "
   ]
  }
 ],
 "metadata": {
  "kernelspec": {
   "display_name": "Python 3",
   "language": "python",
   "name": "python3"
  },
  "language_info": {
   "codemirror_mode": {
    "name": "ipython",
    "version": 3
   },
   "file_extension": ".py",
   "mimetype": "text/x-python",
   "name": "python",
   "nbconvert_exporter": "python",
   "pygments_lexer": "ipython3",
   "version": "3.8.3"
  }
 },
 "nbformat": 4,
 "nbformat_minor": 4
}
