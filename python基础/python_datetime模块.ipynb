{
 "cells": [
  {
   "cell_type": "markdown",
   "metadata": {},
   "source": [
    "# date模块"
   ]
  },
  {
   "cell_type": "markdown",
   "metadata": {},
   "source": [
    "## date类"
   ]
  },
  {
   "cell_type": "code",
   "execution_count": 22,
   "metadata": {},
   "outputs": [
    {
     "name": "stdout",
     "output_type": "stream",
     "text": [
      "2018-06-19\n",
      "<class 'datetime.date'>\n",
      "2021-08-08\n",
      "<class 'datetime.date'>\n",
      "2000-01-01\n",
      "1987-08-10\n",
      "<class 'datetime.date'>\n",
      "6\n",
      "7\n",
      "**************************************************\n",
      "2021-08-08\n",
      "**************************************************\n",
      "21/08/08\n",
      "2021/08/08\n",
      "**************************************************\n"
     ]
    }
   ],
   "source": [
    "from datetime import date\n",
    "\n",
    "# 构建一个date对象\n",
    "d = date(2018,6,19)\n",
    "print(d)\n",
    "print(type(d))\n",
    "\n",
    "# 获取当前日期\n",
    "today = date.today()\n",
    "print(today)\n",
    "print(type(today))\n",
    "print(today.replace(2000,1,1))\n",
    "\n",
    "# 时间戳转化成日期\n",
    "timestamp = 555555555\n",
    "d = date.fromtimestamp(timestamp)\n",
    "print(d)\n",
    "print(type(d))\n",
    "\n",
    "# 获取星期\n",
    "today = date.today()\n",
    "print(today.weekday())\n",
    "print(today.isoweekday())\n",
    "print(\"*\"*50)\n",
    "\n",
    "# 格式化日期 返回字符串\n",
    "ds = today.isoformat() \n",
    "print(ds)\n",
    "print(\"*\"*50)\n",
    "\n",
    "print(today.strftime('%y/%m/%d'))\n",
    "print(today.strftime('%Y/%m/%d'))\n",
    "print(\"*\"*50)"
   ]
  },
  {
   "cell_type": "markdown",
   "metadata": {},
   "source": [
    "## time类"
   ]
  },
  {
   "cell_type": "code",
   "execution_count": 39,
   "metadata": {},
   "outputs": [
    {
     "name": "stdout",
     "output_type": "stream",
     "text": [
      "23:50:50.123456\n",
      "<class 'datetime.time'>\n",
      "**************************************************\n",
      "23:50:50.123456\n",
      "<class 'str'>\n",
      "23\n",
      "23:50\n",
      "23:50:50\n",
      "**************************************************\n",
      "23:50:50\n"
     ]
    }
   ],
   "source": [
    "from datetime import time\n",
    "\n",
    "time = time(23,50,50,123456)\n",
    "print(time)\n",
    "print(type(time))\n",
    "print(\"*\"*50)\n",
    "\n",
    "# 标准格式化\n",
    "t = time.isoformat()\n",
    "print(t)\n",
    "print(type(t))\n",
    "t = time.isoformat('hours')\n",
    "print(t)\n",
    "t = time.isoformat('minutes')\n",
    "print(t)\n",
    "t = time.isoformat('seconds')\n",
    "print(t)\n",
    "print(\"*\"*50)\n",
    "\n",
    "# 时间对象转字符串\n",
    "str_t = time.strftime(\"%H:%M:%S\")\n",
    "print(str_t)"
   ]
  },
  {
   "cell_type": "markdown",
   "metadata": {},
   "source": [
    "# datetime日期时间对象"
   ]
  },
  {
   "cell_type": "code",
   "execution_count": 41,
   "metadata": {},
   "outputs": [
    {
     "name": "stdout",
     "output_type": "stream",
     "text": [
      "2020-08-08 16:58:32\n",
      "<class 'datetime.datetime'>\n",
      "**************************************************\n",
      "2021-08-09 17:20:59.566449\n",
      "2021-08-09 17:20:59.566449\n",
      "**************************************************\n",
      "2021-08-09 09:20:59.566449\n",
      "**************************************************\n",
      "1628472059.566449\n",
      "<class 'float'>\n",
      "**************************************************\n",
      "2021-08-09 09:20:59.566449\n",
      "<class 'datetime.datetime'>\n",
      "**************************************************\n",
      "2021-08-09T09:20:59.566449\n",
      "<class 'str'>\n",
      "**************************************************\n",
      "2021/08/09 09:20:59\n",
      "<class 'str'>\n",
      "**************************************************\n",
      "2018-04-07 08:43:07\n",
      "<class 'datetime.datetime'>\n",
      "2021-08-09 09:20:59\n",
      "<class 'datetime.datetime'>\n"
     ]
    }
   ],
   "source": [
    "from datetime import datetime\n",
    "\n",
    "dt = datetime(2020,8,8,16,58,32)\n",
    "print(dt)\n",
    "print(type(dt))\n",
    "print(\"*\"*50)\n",
    "\n",
    "# 获取当前日期\n",
    "dt = datetime.today()\n",
    "print(dt)\n",
    "dt = datetime.now()  #可以加时区\n",
    "print(dt)\n",
    "print(\"*\"*50)\n",
    "\n",
    "# 获取当前标准时区时间\n",
    "dt = datetime.utcnow()\n",
    "print(dt)\n",
    "print(\"*\"*50)\n",
    "\n",
    "# 日期转时间戳\n",
    "dt_stamp = dt.timestamp()\n",
    "print(dt_stamp)\n",
    "print(type(dt_stamp))\n",
    "print(\"*\"*50)\n",
    "\n",
    "# 时间戳转日期\n",
    "dt = datetime.fromtimestamp(dt_stamp)\n",
    "print(dt)\n",
    "print(type(dt))\n",
    "print(\"*\"*50)\n",
    "\n",
    "# 时间日期格式化\n",
    "str_dt = dt.isoformat()\n",
    "print(str_dt)\n",
    "print(type(str_dt))\n",
    "print(\"*\"*50)\n",
    "\n",
    "# 时间日期转字符串\n",
    "str_dt = dt.strftime(\"%Y/%m/%d %H:%M:%S\")\n",
    "print(str_dt)\n",
    "print(type(str_dt))\n",
    "print(\"*\"*50)\n",
    "\n",
    "# 字符串转日期时间对象\n",
    "dt = datetime.strptime(\"2018-04-07 08:43:07 AM\",\"%Y-%m-%d %I:%M:%S %p\")\n",
    "print(dt)\n",
    "print(type(dt))\n",
    "dt = datetime.strptime(str_dt,\"%Y/%m/%d %H:%M:%S\")\n",
    "print(dt)\n",
    "print(type(dt))\n",
    "\n",
    "# 单独获取日期和时间\n",
    "date = dt.date()\n",
    "time = dt.time()"
   ]
  },
  {
   "cell_type": "markdown",
   "metadata": {},
   "source": [
    "# datetime日期运算"
   ]
  },
  {
   "cell_type": "code",
   "execution_count": 59,
   "metadata": {},
   "outputs": [
    {
     "name": "stdout",
     "output_type": "stream",
     "text": [
      "2021-08-09 17:41:55.282897\n",
      "2020-02-01 18:06:03\n",
      "**************************************************\n",
      "554 days, 23:35:52.282897\n",
      "<class 'datetime.timedelta'>\n",
      "相差时间为：554天，23.60小时\n",
      "相差总秒数为47950552.282897\n",
      "**************************************************\n",
      "今天的日期为 2021-08-09 17:41:55.283900\n",
      "10天后的日期为 2021-08-19 17:41:55.283900\n",
      "**************************************************\n",
      "True\n"
     ]
    }
   ],
   "source": [
    "from datetime import datetime\n",
    "\n",
    "dt1 = datetime.today()\n",
    "dt2 = datetime(2020,2,1,18,6,3)\n",
    "print(dt1)\n",
    "print(dt2)\n",
    "print(\"*\"*50)\n",
    "\n",
    "# 日期减法\n",
    "re_dt = dt1 - dt2\n",
    "print(re_dt)\n",
    "print(type(re_dt))\n",
    "\n",
    "print(\"相差时间为：{}天，{:.2f}小时\".format(re_dt.days,re_dt.seconds/(60*60)))\n",
    "print(\"相差总秒数为{}\".format(re_dt.total_seconds()))\n",
    "print(\"*\"*50)\n",
    "\n",
    "# 日期加法 通过delta设置增量然后相加  注意timedelta方法属于第一个datetime类\n",
    "import datetime\n",
    "now = datetime.datetime.now()\n",
    "print(\"今天的日期为\",now)\n",
    "delta = datetime.timedelta(days = 10)\n",
    "new_dt = now + delta\n",
    "print(\"10天后的日期为\",new_dt)\n",
    "print(\"*\"*50)\n",
    "\n",
    "# 日期时间比较 可以直接进行比较\n",
    "print(dt1>dt2)\n"
   ]
  }
 ],
 "metadata": {
  "kernelspec": {
   "display_name": "Python 3",
   "language": "python",
   "name": "python3"
  },
  "language_info": {
   "codemirror_mode": {
    "name": "ipython",
    "version": 3
   },
   "file_extension": ".py",
   "mimetype": "text/x-python",
   "name": "python",
   "nbconvert_exporter": "python",
   "pygments_lexer": "ipython3",
   "version": "3.8.3"
  }
 },
 "nbformat": 4,
 "nbformat_minor": 4
}
