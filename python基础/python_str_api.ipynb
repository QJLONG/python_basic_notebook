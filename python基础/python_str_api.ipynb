{
 "cells": [
  {
   "cell_type": "markdown",
   "metadata": {},
   "source": [
    "# STR_api"
   ]
  },
  {
   "cell_type": "code",
   "execution_count": 34,
   "metadata": {},
   "outputs": [
    {
     "name": "stdout",
     "output_type": "stream",
     "text": [
      "3\n",
      "2\n",
      "**************************************************\n",
      "0\n",
      "-1\n",
      "**************************************************\n",
      "('', 'l', 'ife is not all roses')\n",
      "('life is not all roses', '', '')\n",
      "**************************************************\n",
      "['', 'ife is not a', '', ' roses']\n",
      "['life', 'is', 'not', 'all', 'roses']\n",
      "**************************************************\n",
      "['life is not all', ' roses']\n",
      "['life is not all\\n', ' roses']\n",
      "**************************************************\n",
      "l,i,f,e, ,i,s, ,n,o,t, ,a,l,l, ,r,o,s,e,s\n",
      "**************************************************\n",
      "Life is not aLL roses\n",
      "Life is not aLL roses\n",
      "**************************************************\n",
      "LIFE IS NOT ALL ROSES\n",
      "life is not all roses\n"
     ]
    }
   ],
   "source": [
    "# 1.count(sub,start,end) 数子串个数\n",
    "print('life is not all roses'.count('l',0,-1))\n",
    "print('life is not all roses'.count('l',-20,-5))\n",
    "print('*'*50)\n",
    "\n",
    "# 2.find(sub,start,end) 查询子串 如果有返回索引 没有返回-1\n",
    "print('abcdefg'.find('abc'))\n",
    "print('abcdefg'.find('ym'))\n",
    "print('*'*50)\n",
    "\n",
    "# 3.partition(sep)  查找sep 如果有 返回前面。自己，后面三部分，如果没有返回原串和两个空白\n",
    "print('life is not all roses'.partition('l'))\n",
    "print('life is not all roses'.partition('y'))\n",
    "print('*'*50)\n",
    "\n",
    "# 4.split(sep) 分割并将sep丢掉 默认空格\n",
    "print('life is not all roses'.split('l'))\n",
    "print('life is not all roses'.split())\n",
    "print('*'*50)\n",
    "\n",
    "# 5.splitlines(true or false) 按行分割 参数为true：将\\n保留  参数为false：丢掉\n",
    "print('life is not all\\n roses'.splitlines())\n",
    "print('life is not all\\n roses'.splitlines(True))\n",
    "print('*'*50)\n",
    "\n",
    "# 6.join(str) 将前面字符串加入str中\n",
    "print(','.join('life is not all roses'))\n",
    "print('*'*50)\n",
    "\n",
    "# 7.replace(old,new，count) 替换 最后一个参数为替换次数\n",
    "print('life is not all roses'.replace('l','L'))\n",
    "print('life is not all roses'.replace('l','L'))\n",
    "print('*'*50)\n",
    "\n",
    "# 8.upper() lower()\n",
    "print('life is not all roses'.upper())\n",
    "print('life is not all roses'.lower())\n",
    "print('*'*50)\n",
    "\n",
    "# 9.index(sub) 找不到报错  返回索引\n",
    "print('abcdefg'.index('abc'))\n"
   ]
  }
 ],
 "metadata": {
  "kernelspec": {
   "display_name": "Python 3",
   "language": "python",
   "name": "python3"
  },
  "language_info": {
   "codemirror_mode": {
    "name": "ipython",
    "version": 3
   },
   "file_extension": ".py",
   "mimetype": "text/x-python",
   "name": "python",
   "nbconvert_exporter": "python",
   "pygments_lexer": "ipython3",
   "version": "3.8.3"
  }
 },
 "nbformat": 4,
 "nbformat_minor": 4
}
