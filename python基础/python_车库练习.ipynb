{
 "cells": [
  {
   "cell_type": "markdown",
   "metadata": {},
   "source": [
    "# 车库模型"
   ]
  },
  {
   "cell_type": "markdown",
   "metadata": {},
   "source": [
    "```\n",
    "1.准备数据：\n",
    "    创建车库类，车类，人类\n",
    "    构造买入车辆方法，提取车辆方法，人开车方法\n",
    "2.实现需求\n",
    "```"
   ]
  },
  {
   "cell_type": "code",
   "execution_count": 12,
   "metadata": {},
   "outputs": [
    {
     "name": "stdout",
     "output_type": "stream",
     "text": [
      "Bob buy a black Bmw successfully!\n",
      "Bob buy a red Benz successfully!\n",
      "A red Benz is running! And a boy--Bob is in it!\n"
     ]
    }
   ],
   "source": [
    "# __auther__ = 'hummer'\n",
    "\n",
    "import random\n",
    "\n",
    "# create a car class\n",
    "class Car(object):\n",
    "    name = ''\n",
    "    color = ''\n",
    "    \n",
    "    def __init__(self,name,color):\n",
    "        self.name = name\n",
    "        self.color = color\n",
    "    \n",
    "    def running(self):\n",
    "        return 'A {s.color} {s.name} is running!'.format(s = self)\n",
    "    \n",
    "# create a bmw class\n",
    "class Bmw(Car):\n",
    "    def __init__(self):\n",
    "        super().__init__('Bmw','black')\n",
    "    \n",
    "# create a Benz class\n",
    "class Benz(Car):\n",
    "    def __init__(self):\n",
    "        super().__init__('Benz','red')\n",
    "\n",
    "# create a Person class \n",
    "class Person(object):\n",
    "    name = ''\n",
    "    sex = ''\n",
    "    \n",
    "    def __init__(self,name,sex):\n",
    "        self.name = name\n",
    "        self.sex = sex\n",
    "    \n",
    "    def drive(self,car):\n",
    "        print('{} And a {s.sex}--{s.name} is in it!'.format(car.running(),s = self))\n",
    "        \n",
    "    \n",
    "\n",
    "# create a carport class\n",
    "class CarPort(object):\n",
    "    order = ''\n",
    "    cars = []\n",
    "    \n",
    "    def __init__(self,order):\n",
    "        self.order = order\n",
    "    \n",
    "    # create method buy_car\n",
    "    def buy_car(self,car):\n",
    "        self.cars.append(car)\n",
    "        print('{} buy a {} {} successfully!'.format(self.order,car.color,car.name))\n",
    "\n",
    "    # create method get_car\n",
    "    def get_car(self):\n",
    "        return random.choice(self.cars)\n",
    "    \n",
    "\n",
    "if __name__ == '__main__':\n",
    "    # Bob买建造了一个车库\n",
    "    car_port = CarPort('Bob')\n",
    "    \n",
    "    # 实例化宝马奔驰\n",
    "    bmw = Bmw()\n",
    "    benz = Benz()\n",
    "    \n",
    "    # 车库购进了一辆宝马和一辆奔驰\n",
    "    car_port.buy_car(bmw)\n",
    "    car_port.buy_car(benz)\n",
    "    \n",
    "    # 实例化bob\n",
    "    bob = Person('Bob','boy')\n",
    "    result_car = car_port.get_car()\n",
    "    \n",
    "    # bob开车上路\n",
    "    bob.drive(result_car)\n",
    "    "
   ]
  },
  {
   "cell_type": "code",
   "execution_count": null,
   "metadata": {},
   "outputs": [],
   "source": []
  }
 ],
 "metadata": {
  "kernelspec": {
   "display_name": "Python 3",
   "language": "python",
   "name": "python3"
  },
  "language_info": {
   "codemirror_mode": {
    "name": "ipython",
    "version": 3
   },
   "file_extension": ".py",
   "mimetype": "text/x-python",
   "name": "python",
   "nbconvert_exporter": "python",
   "pygments_lexer": "ipython3",
   "version": "3.8.3"
  }
 },
 "nbformat": 4,
 "nbformat_minor": 5
}
