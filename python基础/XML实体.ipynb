{
 "cells": [
  {
   "cell_type": "markdown",
   "metadata": {},
   "source": [
    "# XML实体"
   ]
  },
  {
   "cell_type": "markdown",
   "metadata": {},
   "source": [
    "```xml\n",
    "<?xml version=\"1.0\" encoding=\"utf-8\" ?>\n",
    "<!--实体\n",
    "    &amp;  &\n",
    "    &lt;   <\n",
    "    &gt;   >\n",
    "    &quot; \"\n",
    "    &apos; '\n",
    "-->\n",
    "\n",
    "<!--声明（自定义）实体-->\n",
    "<!DOCTYPE people[\n",
    "        <!--实体声明-->\n",
    "        <!ENTITY nm \"张三\">\n",
    "]>\n",
    "\n",
    "<!-- 根节点 -->\n",
    "<people>\n",
    "    <!-- 子节点 -->\n",
    "    <person>\n",
    "        <name>王晶晶</name>\n",
    "        <age>28</age>\n",
    "    </person>\n",
    "    <!--引用实体的方法-->\n",
    "    <person>\n",
    "        <name>&nm;</name>\n",
    "        <age>300</age>\n",
    "    </person>\n",
    "</people>\n",
    "\n",
    "<!-- 方式二\n",
    "<people>\n",
    "    <person name=\"王晶晶\" age=\"28\"></person>\n",
    "    <person name=\"至尊宝\" age=\"300\"></person>\n",
    "</people>\n",
    "-->\n",
    "```"
   ]
  }
 ],
 "metadata": {
  "kernelspec": {
   "display_name": "Python 3",
   "language": "python",
   "name": "python3"
  },
  "language_info": {
   "codemirror_mode": {
    "name": "ipython",
    "version": 3
   },
   "file_extension": ".py",
   "mimetype": "text/x-python",
   "name": "python",
   "nbconvert_exporter": "python",
   "pygments_lexer": "ipython3",
   "version": "3.8.3"
  }
 },
 "nbformat": 4,
 "nbformat_minor": 4
}
