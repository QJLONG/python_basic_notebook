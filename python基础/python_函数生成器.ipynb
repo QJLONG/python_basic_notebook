{
 "cells": [
  {
   "cell_type": "markdown",
   "metadata": {},
   "source": [
    "# 函数生成器"
   ]
  },
  {
   "cell_type": "code",
   "execution_count": 3,
   "metadata": {},
   "outputs": [
    {
     "name": "stdout",
     "output_type": "stream",
     "text": [
      "玩游戏。。。很开心。。。\n",
      "helloworld！\n",
      "玩游戏。。。很开心。。。\n",
      "helloworld！\n",
      "玩游戏。。。很开心。。。\n",
      "helloworld！\n",
      "玩游戏。。。很开心。。。\n",
      "helloworld！\n",
      "玩游戏。。。很开心。。。\n",
      "helloworld！\n"
     ]
    }
   ],
   "source": [
    "# 边玩游戏边学习\n",
    "\n",
    "def game():\n",
    "    for idx in range(5):\n",
    "        yield print(\"玩游戏。。。很开心。。。\")\n",
    "\n",
    "def sutdy():\n",
    "    for idx in range(5):\n",
    "        yield print(\"helloworld！\")\n",
    "\n",
    "for idx in range(5):\n",
    "    next(game())\n",
    "    next(sutdy())"
   ]
  }
 ],
 "metadata": {
  "kernelspec": {
   "display_name": "Python 3",
   "language": "python",
   "name": "python3"
  },
  "language_info": {
   "codemirror_mode": {
    "name": "ipython",
    "version": 3
   },
   "file_extension": ".py",
   "mimetype": "text/x-python",
   "name": "python",
   "nbconvert_exporter": "python",
   "pygments_lexer": "ipython3",
   "version": "3.8.3"
  }
 },
 "nbformat": 4,
 "nbformat_minor": 4
}
